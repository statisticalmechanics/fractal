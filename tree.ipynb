{
 "cells": [
  {
   "cell_type": "markdown",
   "metadata": {},
   "source": [
    "# Tree and Canopy\n",
    "\n",
    "Kai Zhang, Division of Natural and Applied Sciences, Duke Kunshan University, 2021"
   ]
  },
  {
   "cell_type": "code",
   "execution_count": null,
   "metadata": {},
   "outputs": [],
   "source": [
    "import numpy as np  # numpy is a package to use for arrays\n",
    "import matplotlib.pyplot as plt # to make plot\n",
    "import math # to use functions like sqrt, exp, log"
   ]
  },
  {
   "cell_type": "code",
   "execution_count": null,
   "metadata": {},
   "outputs": [],
   "source": [
    "math.pi"
   ]
  },
  {
   "cell_type": "code",
   "execution_count": null,
   "metadata": {},
   "outputs": [],
   "source": [
    "def branch(x, y, scale, angle):\n",
    "    '''\n",
    "    x,y stores the endpoints of the trunk\n",
    "    angle is given in degree, then converted to rad below\n",
    "    \n",
    "    '''\n",
    "    angle = angle * math.pi/180.0\n",
    "    \n",
    "    l0 = math.sqrt((x[1]-x[0])**2 + (y[1]-y[0])**2)\n",
    "    l1 = l0 * scale\n",
    "    \n",
    "    dl = l1 * math.cos(angle/2.0)\n",
    "    dh = l1 * math.sin(angle/2.0)\n",
    " \n",
    "    xt = x[1] + (x[1]-x[0]) *dl/l0    \n",
    "    yt = y[1] + (y[1]-y[0]) *dl/l0 \n",
    "   \n",
    "    xl = xt +  (y[0]-y[1]) *dh/l0\n",
    "    yl = yt +  (x[1]-x[0]) *dh/l0\n",
    "    \n",
    "    xr = xt -  (y[0]-y[1]) *dh/l0\n",
    "    yr = yt -  (x[1]-x[0]) *dh/l0\n",
    "  \n",
    "    return   [x[1],xl], [y[1],yl] ,   [x[1],xr], [y[1],yr] "
   ]
  },
  {
   "cell_type": "code",
   "execution_count": null,
   "metadata": {},
   "outputs": [],
   "source": [
    "x0 = [0,1]\n",
    "y0 = [0,0]\n",
    "plt.figure(figsize=(5,5))\n",
    "plt.plot(x0, y0)\n",
    "plt.xlim(-5,5)\n",
    "plt.ylim(-5,5)"
   ]
  },
  {
   "cell_type": "code",
   "execution_count": null,
   "metadata": {},
   "outputs": [],
   "source": [
    "xa, ya, xb, yb = branch(x0, y0, 0.8, 60)"
   ]
  },
  {
   "cell_type": "code",
   "execution_count": null,
   "metadata": {},
   "outputs": [],
   "source": [
    "plt.figure(figsize=(5,5))\n",
    "plt.plot(x0, y0)\n",
    "plt.plot(xa, ya)\n",
    "plt.plot(xb, yb)\n",
    "plt.xlim(-5,5)\n",
    "plt.ylim(-5,5)"
   ]
  },
  {
   "cell_type": "code",
   "execution_count": null,
   "metadata": {},
   "outputs": [],
   "source": [
    "def tree(x0, y0, scale, angle, ngen):\n",
    "    '''\n",
    "    '''\n",
    "    rx = []\n",
    "    ry = []\n",
    "    rx.append([x0])\n",
    "    ry.append([y0])\n",
    "\n",
    "    for n in range(ngen):\n",
    "        nseg = 2**n\n",
    "        #print(nseg)\n",
    "        xn=[]\n",
    "        yn=[]\n",
    "        for i in range(nseg): \n",
    "            xa, ya, xb, yb = branch(rx[n][i], ry[n][i], scale, angle)\n",
    "            \n",
    "            xn.append(xa)\n",
    "            xn.append(xb)\n",
    "            yn.append(ya)\n",
    "            yn.append(yb)\n",
    "                   \n",
    "        rx.append(xn)\n",
    "        ry.append(yn)\n",
    "    \n",
    "    return rx, ry"
   ]
  },
  {
   "cell_type": "code",
   "execution_count": null,
   "metadata": {},
   "outputs": [],
   "source": [
    "ngen = 10\n",
    "scale=0.65\n",
    "angle=150\n",
    "x0 = [0,0]\n",
    "y0 = [-5,-3]\n",
    "bx,by = tree(x0, y0, scale, angle, ngen)"
   ]
  },
  {
   "cell_type": "code",
   "execution_count": null,
   "metadata": {},
   "outputs": [],
   "source": [
    "gen = 7\n",
    "plt.figure(figsize=(5,5))\n",
    "plt.axis('equal')\n",
    "\n",
    "#plt.xlim(-5,5)\n",
    "#plt.ylim(-5,5)\n",
    "\n",
    "for n in range(gen):\n",
    "    seg = 2**n\n",
    "    for i in range(seg):\n",
    "        plt.plot(bx[n][i],by[n][i], 'b')\n",
    " \n"
   ]
  },
  {
   "cell_type": "markdown",
   "metadata": {
    "collapsed": true
   },
   "source": [
    "The end"
   ]
  }
 ],
 "metadata": {
  "kernelspec": {
   "display_name": "Python 3",
   "language": "python",
   "name": "python3"
  },
  "language_info": {
   "codemirror_mode": {
    "name": "ipython",
    "version": 3
   },
   "file_extension": ".py",
   "mimetype": "text/x-python",
   "name": "python",
   "nbconvert_exporter": "python",
   "pygments_lexer": "ipython3",
   "version": "3.7.1"
  }
 },
 "nbformat": 4,
 "nbformat_minor": 2
}
