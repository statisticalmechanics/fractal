{
 "cells": [
  {
   "cell_type": "markdown",
   "metadata": {},
   "source": [
    "# Burning Ship\n",
    "\n",
    "Kai Zhang, Division of Natural and Applied Sciences, Duke Kunshan University, 2021\n",
    "\n",
    "$z_{n+1} = (|Re z_n| + i |Im z_n|)^2 + c$, $z_0 = 0$\n",
    "\n",
    "After $n$ interations, whether $z_n$ is beyond the escape radius $R$, i.e. $|z_n| < R , ~as~ n \\rightarrow \\infty $? \n",
    "\n",
    "All points $c$ such that $|z_n| < R$ make up the Burning ship set, i.e.  $\\{ c ~  |~ |z_n| < R , ~as~ n \\rightarrow \\infty \\}$\n",
    "\n",
    "\n",
    "Ref:\n",
    "\n",
    "Michelitsch, M. and Rössler, O.E., 1992. The “burning ship” and its quasi-Julia sets. Computers & graphics, 16(4), pp.435-438.\n"
   ]
  },
  {
   "cell_type": "code",
   "execution_count": null,
   "metadata": {},
   "outputs": [],
   "source": [
    "from PIL import Image\n",
    "from matplotlib.pyplot import imshow\n",
    "import math"
   ]
  },
  {
   "cell_type": "code",
   "execution_count": null,
   "metadata": {},
   "outputs": [],
   "source": [
    "def burnship(w=10,h=5, a=1, b=1,cx0=0, cy0=0, max_iteration = 100,R = 2.0):\n",
    "    '''\n",
    "    R is escape radius\n",
    "    '''\n",
    "    \n",
    "\n",
    "    # creating the new blank image in RGB mode \n",
    "    bitmap = Image.new(\"RGB\", (w, h), \"white\") \n",
    "    \n",
    "    # initialize pixels using the white image\n",
    "    pix = bitmap.load() \n",
    "      \n",
    "    for x in range(w): # 0 < x < w\n",
    "        for y in range(h):  # 0 < y < h\n",
    "            cx = a*(x - w/2)/ w * 2 + cx0 # -a+cx0 < cx < a+cx0\n",
    "            cy = b*(y - h/2)/ h * 2 + cy0 # -b+cy0 < cy < b+cy0\n",
    "            \n",
    "            zx, zy = 0, 0\n",
    "            iteration = 0\n",
    "            while zx*zx + zy*zy < R**2 and iteration < max_iteration: \n",
    "                #zx = abs(zx)\n",
    "                #zy = abs(zy)\n",
    "                tmp = zx*zx - zy*zy + cx \n",
    "                zy,zx = 2.0*abs(zx*zy) + cy, tmp             \n",
    "                iteration += 1\n",
    "                \n",
    "            # pix[x,y] = (0,0,0) gives black\n",
    "            # pix[x,y] = (255,255,255) gives white\n",
    "            \n",
    "            #pix[x,y] = (max_iteration-iteration,max_iteration-iteration,max_iteration-iteration)\n",
    "            if (iteration == max_iteration):\n",
    "                pix[x,y] = (0,0,0) #(65,100,137) #(iteration << 21) + (iteration << 10) + iteration*8\n",
    "            elif(iteration > 18):\n",
    "                pix[x,y] = (500, 200,0)\n",
    "            else:\n",
    "                #pix[x,y] = (max_iteration-iteration,max_iteration-iteration,max_iteration-iteration)\n",
    "                pix[x,y] = (1000, 1000,1000)\n",
    "\n",
    "                #pix[x,y] = ( iteration, 0,  max_iteration-  iteration) #iteration\n",
    "    \n",
    "    \n",
    "    #bitmap.show()  # popup image\n",
    "    imshow(bitmap) # show image inline\n",
    "    \n",
    "    bitmap.save('burning_ship_new.png')\n",
    "    return"
   ]
  },
  {
   "cell_type": "code",
   "execution_count": null,
   "metadata": {},
   "outputs": [],
   "source": [
    "burnship(500,500,0.06,0.06,-1.75,-0.03,250,2)"
   ]
  },
  {
   "cell_type": "markdown",
   "metadata": {},
   "source": [
    "high resolution, slow!"
   ]
  },
  {
   "cell_type": "code",
   "execution_count": null,
   "metadata": {},
   "outputs": [],
   "source": [
    "burnship(6000,4000,2,1.5,-0.5,-0.5,200,2)"
   ]
  },
  {
   "cell_type": "markdown",
   "metadata": {},
   "source": [
    "The end"
   ]
  }
 ],
 "metadata": {
  "kernelspec": {
   "display_name": "Python 3",
   "language": "python",
   "name": "python3"
  },
  "language_info": {
   "codemirror_mode": {
    "name": "ipython",
    "version": 3
   },
   "file_extension": ".py",
   "mimetype": "text/x-python",
   "name": "python",
   "nbconvert_exporter": "python",
   "pygments_lexer": "ipython3",
   "version": "3.7.1"
  }
 },
 "nbformat": 4,
 "nbformat_minor": 2
}
