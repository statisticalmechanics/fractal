{
 "cells": [
  {
   "cell_type": "markdown",
   "metadata": {},
   "source": [
    "# Barnsley Fern\n",
    "\n",
    "Kai Zhang, Division of Natural and Applied Sciences, Duke Kunshan University, 2021\n",
    "\n",
    "__References__: Introductory Biophysics Perspectives on the Living State by J. Claycomb and Jonathan Quoc P. Tran"
   ]
  },
  {
   "cell_type": "code",
   "execution_count": null,
   "metadata": {},
   "outputs": [],
   "source": [
    "import numpy as np  # numpy is a package to use for arrays\n",
    "import matplotlib.pyplot as plt # to make plot\n",
    "import math # to use functions like sqrt, exp, log"
   ]
  },
  {
   "cell_type": "code",
   "execution_count": null,
   "metadata": {},
   "outputs": [],
   "source": [
    "Jmax = 50000\n",
    "\n",
    "Fern = np.zeros((Jmax,2))\n",
    "A1 = np.array([[0.849,0.037],[-0.037,0.849]])\n",
    "A2 = np.array([[0.197,-0.226],[0.226,0.197]])\n",
    "A3 = np.array([[-0.150,0.283],[0.26,0.237]])\n",
    "A4 = np.array([[0.0,0.0],[0.0,0.16]])\n",
    "\n",
    "B1 = np.array([[0.075],[0.18]])\n",
    "B2 = np.array([[0.4],[0.049]])\n",
    "B3 = np.array([[0.575],[-0.084]])\n",
    "B4 = np.array([[0.5],[0.0]])\n",
    "\n",
    "Imax = 100\n"
   ]
  },
  {
   "cell_type": "code",
   "execution_count": null,
   "metadata": {},
   "outputs": [],
   "source": [
    "xn = np.array([[0], [0]])\n",
    "\n",
    "for j in range(Jmax):\n",
    "    x = np.array([[np.random.rand()],[np.random.rand()]])\n",
    "    for i in range(Imax):\n",
    "        p = np.random.rand()\n",
    "        if p < 0.85: # smaller leafs\n",
    "            xn = np.dot(A1,x) + B1\n",
    "        elif p < 0.92: # largest left\n",
    "            xn = np.dot(A2,x) + B2\n",
    "        elif p < 0.99:  # largest right\n",
    "            xn = np.dot(A3,x) + B3\n",
    "        else:  # stem\n",
    "            xn = np.dot(A4,x) + B4\n",
    "        x = xn\n",
    "    Fern[j,0] = x[0]\n",
    "    Fern[j,1] = x[1]"
   ]
  },
  {
   "cell_type": "code",
   "execution_count": null,
   "metadata": {},
   "outputs": [],
   "source": [
    "plt.figure(figsize=(8,8))\n",
    "\n",
    "plt.plot(Fern[:,0],Fern[:,1],'g.',markersize=1)\n",
    "\n",
    "plt.xlim(0,1.1)\n",
    "plt.ylim(0,1.1)"
   ]
  },
  {
   "cell_type": "markdown",
   "metadata": {},
   "source": [
    "The end"
   ]
  }
 ],
 "metadata": {
  "kernelspec": {
   "display_name": "Python 3",
   "language": "python",
   "name": "python3"
  },
  "language_info": {
   "codemirror_mode": {
    "name": "ipython",
    "version": 3
   },
   "file_extension": ".py",
   "mimetype": "text/x-python",
   "name": "python",
   "nbconvert_exporter": "python",
   "pygments_lexer": "ipython3",
   "version": "3.7.1"
  }
 },
 "nbformat": 4,
 "nbformat_minor": 2
}
