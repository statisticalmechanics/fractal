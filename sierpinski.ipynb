{
 "cells": [
  {
   "cell_type": "markdown",
   "metadata": {},
   "source": [
    "# Sierpiński Gasket\n",
    "\n",
    "Kai Zhang, Division of Natural and Applied Sciences, Duke Kunshan University, 2021"
   ]
  },
  {
   "cell_type": "code",
   "execution_count": null,
   "metadata": {},
   "outputs": [],
   "source": [
    "import numpy as np  # numpy is a package to use for arrays\n",
    "import matplotlib.pyplot as plt # to make plot\n",
    "import math # to use functions like sqrt, exp, log"
   ]
  },
  {
   "cell_type": "markdown",
   "metadata": {},
   "source": [
    "## Sierpiński triangle"
   ]
  },
  {
   "cell_type": "code",
   "execution_count": null,
   "metadata": {},
   "outputs": [],
   "source": [
    "def triangle_scale(x,y):\n",
    "    '''\n",
    "    x = [ax,bx,cx]\n",
    "    y = [ay,by,cy]\n",
    "    '''\n",
    "    \n",
    "    x1 = [ x[0], (x[0]+x[1])/2.0,  (x[0]+x[2])/2.0 ]\n",
    "    x2 = [ (x[0]+x[1])/2.0, x[1],  (x[1]+x[2])/2.0 ]\n",
    "    x3 = [ (x[0]+x[2])/2.0,  (x[1]+x[2])/2.0, x[2] ]\n",
    "    \n",
    "    y1 = [ y[0], (y[0]+y[1])/2.0,  (y[0]+y[2])/2.0 ]\n",
    "    y2 = [ (y[0]+y[1])/2.0, y[1],  (y[1]+y[2])/2.0 ]\n",
    "    y3 = [ (y[0]+y[2])/2.0,  (y[1]+y[2])/2.0, y[2] ]\n",
    "        \n",
    "    return x1,y1,x2,y2,x3,y3"
   ]
  },
  {
   "cell_type": "code",
   "execution_count": null,
   "metadata": {},
   "outputs": [],
   "source": [
    "x0 = [0, 1,0.8]\n",
    "y0 = [0, 0, 0.7]\n",
    "plt.figure(figsize=(5,5))\n",
    "plt.axis('equal')\n",
    "plt.fill(x0, y0, 'k')"
   ]
  },
  {
   "cell_type": "code",
   "execution_count": null,
   "metadata": {},
   "outputs": [],
   "source": [
    "xa,ya,xb,yb,xc,yc = triangle_scale(x0,y0)\n",
    "plt.figure(figsize=(5,5))\n",
    "plt.axis('equal')\n",
    "plt.fill(xa, ya, 'r')\n",
    "plt.fill(xb, yb, 'g')\n",
    "plt.fill(xc, yc, 'b')"
   ]
  },
  {
   "cell_type": "code",
   "execution_count": null,
   "metadata": {},
   "outputs": [],
   "source": [
    "def gasket(x0, y0, ngen):\n",
    "    '''\n",
    "    '''\n",
    "    rx = []\n",
    "    ry = []\n",
    "    rx.append([x0])\n",
    "    ry.append([y0])\n",
    "\n",
    "    for n in range(ngen):\n",
    "        nseg = 3**n\n",
    "        #print(nseg)\n",
    "        xn=[]\n",
    "        yn=[]\n",
    "        for i in range(nseg): \n",
    "            xa, ya, xb, yb, xc, yc = triangle_scale(rx[n][i], ry[n][i])\n",
    "            \n",
    "            xn.append(xa)\n",
    "            xn.append(xb)\n",
    "            xn.append(xc)\n",
    "\n",
    "            yn.append(ya)\n",
    "            yn.append(yb)\n",
    "            yn.append(yc)\n",
    "\n",
    "                   \n",
    "        rx.append(xn)\n",
    "        ry.append(yn)\n",
    "    \n",
    "    return rx, ry"
   ]
  },
  {
   "cell_type": "code",
   "execution_count": null,
   "metadata": {},
   "outputs": [],
   "source": [
    "ngen = 10\n",
    "x0 = [0, 1,0.8]\n",
    "y0 = [0, 0, 0.7]\n",
    "gx,gy = gasket(x0, y0,ngen)\n"
   ]
  },
  {
   "cell_type": "code",
   "execution_count": null,
   "metadata": {},
   "outputs": [],
   "source": [
    "n = 6\n",
    "plt.figure(figsize=(10,10))\n",
    "plt.axis('equal')\n",
    "\n",
    "#plt.xlim(-5,5)\n",
    "#plt.ylim(-5,5)\n",
    "\n",
    " \n",
    "seg = 3**n\n",
    "for i in range(seg):\n",
    "    if i % 3 == 0:\n",
    "        plt.fill(gx[n][i],gy[n][i],'r')\n",
    "    elif i % 3 == 1:\n",
    "        plt.fill(gx[n][i],gy[n][i],'g')\n",
    "    else:\n",
    "        plt.fill(gx[n][i],gy[n][i],'b')\n",
    "\n",
    " \n"
   ]
  },
  {
   "cell_type": "markdown",
   "metadata": {},
   "source": [
    "The end"
   ]
  }
 ],
 "metadata": {
  "kernelspec": {
   "display_name": "Python 3",
   "language": "python",
   "name": "python3"
  },
  "language_info": {
   "codemirror_mode": {
    "name": "ipython",
    "version": 3
   },
   "file_extension": ".py",
   "mimetype": "text/x-python",
   "name": "python",
   "nbconvert_exporter": "python",
   "pygments_lexer": "ipython3",
   "version": "3.7.1"
  }
 },
 "nbformat": 4,
 "nbformat_minor": 2
}
