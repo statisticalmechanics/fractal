{
 "cells": [
  {
   "cell_type": "markdown",
   "metadata": {},
   "source": [
    "# Hilbert Curve\n",
    "\n",
    "Kai Zhang, Division of Natural and Applied Sciences, Duke Kunshan University, 2021\n",
    "\n",
    "Space-filling curve\n",
    "\n",
    "Ref:\n",
    "\n",
    "Breinholt, Greg, and Christoph Schierz. \"Algorithm 781: generating Hilbert's space-filling curve by recursion.\" ACM Transactions on Mathematical Software (TOMS) 24, no. 2 (1998): 184-189.\n",
    "\n"
   ]
  },
  {
   "cell_type": "code",
   "execution_count": null,
   "metadata": {},
   "outputs": [],
   "source": [
    "from PIL import Image\n",
    "import numpy as np \n",
    "from matplotlib.pyplot import imshow\n",
    "import matplotlib.pyplot as plt # to make plot\n",
    "import math"
   ]
  },
  {
   "cell_type": "code",
   "execution_count": null,
   "metadata": {},
   "outputs": [],
   "source": [
    "def Hilbert(x, y, w, i1, i2, hx, hy):\n",
    "    '''\n",
    "    x,y: coordinates\n",
    "    w: width = 2^n\n",
    "    i1,i2: variables\n",
    "    '''  \n",
    "    if w == 1:\n",
    "        #print(x,y)\n",
    "        hx.append(x)\n",
    "        hy.append(y)\n",
    "        return    # exit recusion\n",
    "    w = w/2;\n",
    "    Hilbert(x + i1*w, y + i1*w, w, i1, 1-i2,hx,hy)\n",
    "    Hilbert(x + i2*w, y + (1- i2)*w, w, i1, i2,hx,hy)\n",
    "    Hilbert(x + (1-i1)*w, y + (1-i1)*w, w, i1, i2,hx,hy)\n",
    "    Hilbert(x + (1-i2)*w, y + i2*w, w, 1-i1, i2,hx,hy)"
   ]
  },
  {
   "cell_type": "code",
   "execution_count": null,
   "metadata": {},
   "outputs": [],
   "source": [
    "plt.figure(figsize=(17,4))\n",
    "plt.axis('equal')\n",
    "\n",
    "plt.subplot(141)\n",
    "hx, hy = [], []\n",
    "Hilbert(0,0,2,0,0,hx,hy)\n",
    "plt.plot(hx,hy, 'k')\n",
    "\n",
    "plt.subplot(142)\n",
    "hx, hy = [], []\n",
    "Hilbert(0,0,2,0,1,hx,hy)\n",
    "plt.plot(hx,hy, 'r')\n",
    "\n",
    "\n",
    "plt.subplot(143)\n",
    "hx, hy = [], []\n",
    "Hilbert(0,0,2,1,0,hx,hy)\n",
    "plt.plot(hx,hy, 'b')\n",
    "\n",
    "\n",
    "plt.subplot(144)\n",
    "hx, hy = [], []\n",
    "Hilbert(0,0,2,1,1,hx,hy)\n",
    "plt.plot(hx,hy, 'g')\n",
    "\n",
    "#plt.xlim(-0.6,0.6)\n",
    "#plt.ylim(-0,1.2)\n",
    "#plt.fill(x, y)\n",
    "plt.show()"
   ]
  },
  {
   "cell_type": "code",
   "execution_count": null,
   "metadata": {},
   "outputs": [],
   "source": [
    "hx, hy = [], []\n",
    "n = 8\n",
    "w = 2**n\n",
    "a = (w - 1)*0.5\n",
    "Hilbert(-a,-a,w,0,0,hx,hy)\n",
    "hx = np.array(hx)/w*2\n",
    "hy = np.array(hy)/w*2"
   ]
  },
  {
   "cell_type": "code",
   "execution_count": null,
   "metadata": {},
   "outputs": [],
   "source": [
    "plt.figure(figsize=(15,15))\n",
    "plt.axis('equal')\n",
    "plt.plot(hx,hy, 'b')\n",
    "#plt.xlim(-0.6,0.6)\n",
    "#plt.ylim(-0,1.2)\n",
    "#plt.fill(x, y)\n",
    "plt.show()"
   ]
  },
  {
   "cell_type": "code",
   "execution_count": null,
   "metadata": {},
   "outputs": [],
   "source": []
  },
  {
   "cell_type": "code",
   "execution_count": null,
   "metadata": {},
   "outputs": [],
   "source": [
    "plt.figure(figsize=(10,10))\n",
    "plt.axis('equal')\n",
    "color = ['k','r','g','b','y','c']\n",
    "\n",
    "for n in range(1,7):   \n",
    "    hx, hy = [], []\n",
    "    w = 2**n\n",
    "    a = (w - 1)*0.5\n",
    "    Hilbert(-a,-a,w,0,0,hx,hy)\n",
    "    hx = np.array(hx)/w*2\n",
    "    hy = np.array(hy)/w*2\n",
    "    plt.plot(hx,hy, color[n-1])\n",
    "plt.show()"
   ]
  },
  {
   "cell_type": "markdown",
   "metadata": {},
   "source": [
    "The end"
   ]
  }
 ],
 "metadata": {
  "kernelspec": {
   "display_name": "Python 3",
   "language": "python",
   "name": "python3"
  },
  "language_info": {
   "codemirror_mode": {
    "name": "ipython",
    "version": 3
   },
   "file_extension": ".py",
   "mimetype": "text/x-python",
   "name": "python",
   "nbconvert_exporter": "python",
   "pygments_lexer": "ipython3",
   "version": "3.7.1"
  }
 },
 "nbformat": 4,
 "nbformat_minor": 2
}
