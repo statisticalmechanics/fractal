{
 "cells": [
  {
   "cell_type": "markdown",
   "metadata": {},
   "source": [
    "# Mandelbrot Set\n",
    "\n",
    "Kai Zhang, Division of Natural and Applied Sciences, Duke Kunshan University, 2021\n",
    "\n",
    "$z_{n+1} = z_n^2 + c$, $z_0 = 0$\n",
    "\n",
    "After $n$ interations, whether $z_n$ is beyond the escape radius $R$? \n",
    "\n",
    "All points $c$ such that $|z_n| < R$ consists the Mandelbrot set, i.e. $\\{ c ~ |~ |z_n| < R, ~as~ n \\rightarrow \\infty \\}$"
   ]
  },
  {
   "cell_type": "code",
   "execution_count": null,
   "metadata": {},
   "outputs": [],
   "source": [
    "from PIL import Image\n",
    "from matplotlib.pyplot import imshow"
   ]
  },
  {
   "cell_type": "code",
   "execution_count": null,
   "metadata": {},
   "outputs": [],
   "source": [
    "#cleft,cright = -0.75, -0.725 if you want to zoom in to a particular regime on the c plane\n",
    "#cdown, cup = 0.175,0.2\n",
    "def mandelbrot(w=10,h=5, a=1, b=1,max_iteration = 100,R = 2.0):\n",
    "    '''\n",
    "    R is escape radius\n",
    "    '''\n",
    "    \n",
    "\n",
    "    # creating the new blank image in RGB mode \n",
    "    bitmap = Image.new(\"RGB\", (w, h), \"white\") \n",
    "    \n",
    "    # initialize pixels using the white image\n",
    "    pix = bitmap.load() \n",
    "      \n",
    "    for x in range(w): # 0 < x < w\n",
    "        for y in range(h):  # 0 < y < h\n",
    "            cx = a*(x - w/2)/ w * 2 # -a < cx < a\n",
    "            cy = b*(y - h/2)/ h * 2 # -b < cy < b\n",
    "            #cx = (cright-cleft)/w*x + cleft # turn this on to zoom in to a regime on c plane\n",
    "            #cy = (cup-cdown)/h*y + cdown  #\n",
    "            \n",
    "            zx, zy = 0, 0\n",
    "            iteration = 0\n",
    "            while zx*zx + zy*zy < R**2 and iteration < max_iteration: \n",
    "                tmp = zx*zx - zy*zy + cx \n",
    "                zy,zx = 2.0*zx*zy + cy, tmp             \n",
    "                iteration += 1\n",
    "                \n",
    "            # pix[x,y] = (0,0,0) gives black\n",
    "            # pix[x,y] = (255,255,255) gives white\n",
    "            \n",
    "            pix[x,y] =( max_iteration-iteration,max_iteration-iteration,max_iteration-iteration)\n",
    "            #if (iteration == max_iteration): # a way to add colors\n",
    "            #    pix[x,y] = (0,0,0) #(65,100,137) #(iteration << 21) + (iteration << 10) + iteration*8\n",
    "            #else:\n",
    "            #    pix[x,y] = ( iteration, 0,  max_iteration-  iteration) #iteration\n",
    "    \n",
    "    \n",
    "    bitmap.show()  # popup image\n",
    "    imshow(bitmap,cmap = 'gray') # show image inline\n",
    "    \n",
    "    bitmap.save('mandelbrot.png')\n",
    "    return"
   ]
  },
  {
   "cell_type": "code",
   "execution_count": null,
   "metadata": {},
   "outputs": [],
   "source": [
    "mandelbrot(450,300,1.5,1,350,3)"
   ]
  },
  {
   "cell_type": "code",
   "execution_count": null,
   "metadata": {},
   "outputs": [],
   "source": [
    "mandelbrot(4000,4000,1,0.5,300,3)"
   ]
  },
  {
   "cell_type": "markdown",
   "metadata": {},
   "source": [
    "The end"
   ]
  }
 ],
 "metadata": {
  "kernelspec": {
   "display_name": "Python 3",
   "language": "python",
   "name": "python3"
  },
  "language_info": {
   "codemirror_mode": {
    "name": "ipython",
    "version": 3
   },
   "file_extension": ".py",
   "mimetype": "text/x-python",
   "name": "python",
   "nbconvert_exporter": "python",
   "pygments_lexer": "ipython3",
   "version": "3.7.1"
  }
 },
 "nbformat": 4,
 "nbformat_minor": 2
}
